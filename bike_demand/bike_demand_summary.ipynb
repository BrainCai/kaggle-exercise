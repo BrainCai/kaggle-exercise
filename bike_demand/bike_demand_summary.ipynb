{
 "cells": [
  {
   "cell_type": "markdown",
   "metadata": {},
   "source": [
    "## 自行车租赁总结：\n",
    "* 知识点\n",
    "* 应用的技巧\n",
    "* 需要提升的地方"
   ]
  },
  {
   "cell_type": "markdown",
   "metadata": {},
   "source": [
    "### 谁动了我的数据？它要去向何方\n",
    "* 输入空间到特征空间到底做了什么？\n",
    "* 因为数据量较少，我们看看每个属性都去向了何方"
   ]
  },
  {
   "cell_type": "markdown",
   "metadata": {},
   "source": [
    "#### 数据可视化\n",
    "* 散点图\n",
    "* 折线图\n",
    "* 热力图\n",
    "* 折线图\n",
    "* 缺失值的可视化\n",
    "* 箱线图"
   ]
  },
  {
   "cell_type": "markdown",
   "metadata": {},
   "source": [
    "### 时间特征刻画\n",
    "* "
   ]
  },
  {
   "cell_type": "markdown",
   "metadata": {},
   "source": [
    "#### 输出空间的分布观测\n",
    "* y变量出现分布不均匀的矫正"
   ]
  },
  {
   "cell_type": "markdown",
   "metadata": {},
   "source": [
    "#### 缺失值的处理\n",
    "* KNN、RRF\n"
   ]
  },
  {
   "cell_type": "markdown",
   "metadata": {},
   "source": [
    "#### 奇异值的处理"
   ]
  },
  {
   "cell_type": "markdown",
   "metadata": {},
   "source": [
    "#### 特征工程"
   ]
  },
  {
   "cell_type": "markdown",
   "metadata": {},
   "source": [
    "整个过程就是谁动了我的数据，他们去向了何方"
   ]
  },
  {
   "cell_type": "markdown",
   "metadata": {},
   "source": [
    "#### 关于模型的思考\n",
    "* 提供将注册用户和临时用户分开预测的解决方案\n",
    "* 不预测风速\n",
    "* review 讨论部分\n",
    "* 损失函数的对比\n",
    "* 查看模型过拟合和欠拟合的方法\n",
    "* 对比模型间的差异\n",
    "* 回归模型的多重共线性\n",
    "* 特征重要度\n",
    "* 尝试使用onehotencoder代替类别型变量"
   ]
  },
  {
   "cell_type": "markdown",
   "metadata": {},
   "source": [
    "#### 学习到的套路：\n",
    "* 查看所有列详情\n",
    "* 画出所有x与y的关系(散点图/箱线图)\n",
    "* 时间的变化"
   ]
  }
 ],
 "metadata": {
  "kernelspec": {
   "display_name": "Python 3",
   "language": "python",
   "name": "python3"
  },
  "language_info": {
   "codemirror_mode": {
    "name": "ipython",
    "version": 3
   },
   "file_extension": ".py",
   "mimetype": "text/x-python",
   "name": "python",
   "nbconvert_exporter": "python",
   "pygments_lexer": "ipython3",
   "version": "3.6.1"
  }
 },
 "nbformat": 4,
 "nbformat_minor": 2
}
