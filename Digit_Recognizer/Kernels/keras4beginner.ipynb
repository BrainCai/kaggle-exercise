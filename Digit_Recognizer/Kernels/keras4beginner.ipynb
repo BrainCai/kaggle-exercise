{
  "cells": [
    {
      "metadata": {
        "_uuid": "41dffdc88c5ba3f6e82420669f12a59f59d9bcca",
        "_cell_guid": "84d4608d-4cc3-fcbb-57fb-61f07ad7d020"
      },
      "cell_type": "markdown",
      "source": "*Poonam Ligade*\n\n*1st Feb 2017*\n\n\n----------\n\n\nThis notebook is like note to self.\n\nI am trying to understand various components of Artificial Neural Networks aka Deep Learning.\n\nHope it might be useful for someone else here.\n\nI am designing neural net on MNIST handwritten digits images to identify their correct label i.e number in image.\n\nYou must have guessed its an image recognition task.\n\nMNIST is called Hello world of Deep learning.\n\nLets start!!\n\nThis notebook is inspired from [Jeremy's][1] [Deep Learning][2] mooc and [Deep learning with python][3] book by Keras author [François Chollet][4] .\n\n\n  [1]: https://www.linkedin.com/in/howardjeremy/\n  [2]: http://course.fast.ai/\n  [3]: https://www.manning.com/books/deep-learning-with-python\n  [4]: https://research.google.com/pubs/105096.html"
    },
    {
      "metadata": {
        "_uuid": "55f6a7e6c23571e9910a41f3dbb66c16d97e3e62",
        "_cell_guid": "654456b6-e648-0379-0d66-1cc97af6d00d"
      },
      "cell_type": "markdown",
      "source": "**Import all required libraries**\n==============================="
    },
    {
      "metadata": {
        "_uuid": "3b8c1a558d72fa3f8e6c8e54867a1773fbdfb24d",
        "_cell_guid": "e5b02688-c589-5a89-e11c-837c6a99eb6e",
        "trusted": false,
        "collapsed": true
      },
      "cell_type": "code",
      "source": "    # This Python 3 environment comes with many helpful analytics libraries installed\n# It is defined by the kaggle/python docker image: https://github.com/kaggle/docker-python\n# For example, here's several helpful packages to load in \n\nimport numpy as np # linear algebra\nimport pandas as pd # data processing, CSV file I/O (e.g. pd.read_csv)\n\nimport matplotlib.pyplot as plt\n%matplotlib inline\n\nfrom keras.models import Sequential\nfrom keras.layers import Dense , Dropout , Lambda, Flatten\nfrom keras.optimizers import Adam ,RMSprop\nfrom sklearn.model_selection import train_test_split\n\n# Input data files are available in the \"../input/\" directory.\n# For example, running this (by clicking run or pressing Shift+Enter) will list the files in the input directory\n\nfrom subprocess import check_output\nprint(check_output([\"ls\", \"../input\"]).decode(\"utf8\"))\n\n# Any results you write to the current directory are saved as output.",
      "execution_count": null,
      "outputs": []
    },
    {
      "metadata": {
        "_uuid": "8a8772c011e9fd0a114e31001318152b55160e41",
        "_cell_guid": "22a7fd70-ab61-432d-24cb-93e558414495"
      },
      "cell_type": "markdown",
      "source": "**Load Train and Test data**\n============================"
    },
    {
      "metadata": {
        "_uuid": "4a8ed4b9757cca00097654218e2ecce5c0e441b9",
        "_cell_guid": "05226b08-226a-1a00-044d-a0e6b2101388",
        "trusted": false,
        "collapsed": true
      },
      "cell_type": "code",
      "source": "# create the training & test sets, skipping the header row with [1:]\ntrain = pd.read_csv(\"../input/train.csv\")\nprint(train.shape)\ntrain.head()",
      "execution_count": null,
      "outputs": []
    },
    {
      "metadata": {
        "_uuid": "471474029107e11cfa60a663ec378f4fa422647c",
        "_cell_guid": "2ec570a6-b41a-2139-5e0e-4941c4f0a9d0",
        "trusted": false,
        "collapsed": true
      },
      "cell_type": "code",
      "source": "test= pd.read_csv(\"../input/test.csv\")\nprint(test.shape)\ntest.head()",
      "execution_count": null,
      "outputs": []
    },
    {
      "metadata": {
        "_uuid": "3ada5e1b48a70a4b0e76b22939656d3884d4c341",
        "_cell_guid": "1ae10fe0-dde9-7659-f53d-1a1bd625cfb1",
        "trusted": false,
        "collapsed": true
      },
      "cell_type": "code",
      "source": "X_train = (train.ix[:,1:].values).astype('float32') # all pixel values\ny_train = train.ix[:,0].values.astype('int32') # only labels i.e targets digits\nX_test = test.values.astype('float32')",
      "execution_count": null,
      "outputs": []
    },
    {
      "metadata": {
        "_uuid": "268edd911d2ee957f3fdbf00a97f614129504928",
        "_cell_guid": "250b1126-ce1d-6d3f-9736-2504f7a1e098",
        "trusted": false,
        "collapsed": true
      },
      "cell_type": "code",
      "source": "X_train",
      "execution_count": null,
      "outputs": []
    },
    {
      "metadata": {
        "_uuid": "63459e6a98fed044dcbb92854fb3580c156b1933",
        "_cell_guid": "e0f15f8a-ac08-540a-58db-dab989cc687c",
        "trusted": false,
        "collapsed": true
      },
      "cell_type": "code",
      "source": "y_train",
      "execution_count": null,
      "outputs": []
    },
    {
      "metadata": {
        "_uuid": "503b59864f1c5c054e41c0b3fd24937346541b13",
        "_cell_guid": "c2c91588-5547-353a-7f92-39600027438e"
      },
      "cell_type": "markdown",
      "source": "The output variable is an integer from 0 to 9. This is a **multiclass** classification problem."
    },
    {
      "metadata": {
        "_uuid": "077029a02b1e9d5ec40ff974366f90a1fd7b8bb4",
        "_cell_guid": "60957d82-c76f-4822-28ff-def7011a34fa"
      },
      "cell_type": "markdown",
      "source": "Lets look at 3 images from data set with their labels."
    },
    {
      "metadata": {
        "_uuid": "efef4f412c0f8ec97630781345ea0b02e7821247",
        "_cell_guid": "1541678d-a08b-d2b2-1e1e-eabf882baaec",
        "trusted": false,
        "collapsed": true
      },
      "cell_type": "code",
      "source": "#Convert train datset to (num_images, img_rows, img_cols) format \nX_train = X_train.reshape(X_train.shape[0], 28, 28)\n\nfor i in range(6, 9):\n    plt.subplot(330 + (i+1))\n    plt.imshow(X_train[i], cmap=plt.get_cmap('gray'))\n    plt.title(y_train[i]);",
      "execution_count": null,
      "outputs": []
    },
    {
      "metadata": {
        "_uuid": "82093b3103c7c5e92e8a80db214a257585d2a4fb",
        "_cell_guid": "6be2f3e9-42eb-85b6-9162-c25e4d706155",
        "trusted": false,
        "collapsed": true
      },
      "cell_type": "code",
      "source": "#expand 1 more dimention as 1 for colour channel gray\nX_train = X_train.reshape(X_train.shape[0], 28, 28,1)\nX_train.shape",
      "execution_count": null,
      "outputs": []
    },
    {
      "metadata": {
        "_uuid": "1e810bbd668fa2db94c655dea8983363f6d745c1",
        "_cell_guid": "6949468c-fd27-19c5-15c7-0b357a961003",
        "trusted": false,
        "collapsed": true
      },
      "cell_type": "code",
      "source": "X_test = X_test.reshape(X_test.shape[0], 28, 28,1)\nX_test.shape",
      "execution_count": null,
      "outputs": []
    },
    {
      "metadata": {
        "_uuid": "7ce21cfa74ee3eba4187c5f20e676dd0e50aec0e",
        "_cell_guid": "1232c385-3cb2-56fd-4d1d-f027df7bc78e"
      },
      "cell_type": "markdown",
      "source": "**Preprocessing the digit images**\n=================================="
    },
    {
      "metadata": {
        "_uuid": "171bb0a8fe0cbfcff29165db8fcb39f5363658af",
        "_cell_guid": "6fcc1f9e-1586-e393-49ba-50c73564e0ed"
      },
      "cell_type": "markdown",
      "source": "**Feature Standardization**\n-------------------------------------\n\nIt is important preprocessing step.\nIt is used to centre the data around zero mean and unit variance."
    },
    {
      "metadata": {
        "_uuid": "955c8da7b64dc307cf5f1b628d88e3b72c9dc511",
        "_cell_guid": "a3f837ef-0373-8d91-46e6-30992cf73166",
        "trusted": false,
        "collapsed": true
      },
      "cell_type": "code",
      "source": "mean_px = X_train.mean().astype(np.float32)\nstd_px = X_train.std().astype(np.float32)\n\ndef standardize(x): \n    return (x-mean_px)/std_px",
      "execution_count": null,
      "outputs": []
    },
    {
      "metadata": {
        "_uuid": "ab1748010529a76eb120fa1c64b5ca5313a5fb79",
        "_cell_guid": "725c55fc-9742-a63c-9822-c67ab0c773ee"
      },
      "cell_type": "markdown",
      "source": "*One Hot encoding of labels.*\n-----------------------------\n\nA one-hot vector is a vector which is 0 in most dimensions, and 1 in a single dimension. In this case, the nth digit will be represented as a vector which is 1 in the nth dimension. \n\nFor example, 3 would be [0,0,0,1,0,0,0,0,0,0]."
    },
    {
      "metadata": {
        "_uuid": "d33285a92978f4df60b4d9384c46d6f1238e83de",
        "_cell_guid": "c879f076-b3dd-6cb1-e2d9-2f404f2ed132",
        "trusted": false,
        "collapsed": true
      },
      "cell_type": "code",
      "source": "from keras.utils.np_utils import to_categorical\ny_train= to_categorical(y_train)\nnum_classes = y_train.shape[1]\nnum_classes",
      "execution_count": null,
      "outputs": []
    },
    {
      "metadata": {
        "_uuid": "e9df82efebcdf58490526dbec187663d65a150a3",
        "_cell_guid": "4d76fb04-57fc-e802-6d91-06ece552686b"
      },
      "cell_type": "markdown",
      "source": "Lets plot 10th label."
    },
    {
      "metadata": {
        "_uuid": "64e93bd4045a9a6d836159c853ecb0a5be35c7e5",
        "_cell_guid": "1c927e75-08d2-d539-54f3-71ab0308fec1",
        "trusted": false,
        "collapsed": true
      },
      "cell_type": "code",
      "source": "plt.title(y_train[9])\nplt.plot(y_train[9])\nplt.xticks(range(10));",
      "execution_count": null,
      "outputs": []
    },
    {
      "metadata": {
        "_uuid": "5ac339f193fa9b73772c2f2e67c3168eb79bc021",
        "_cell_guid": "4e130661-9f09-d9a9-d49b-7274ef13927f"
      },
      "cell_type": "markdown",
      "source": "Oh its 3 !"
    },
    {
      "metadata": {
        "_uuid": "708ef216c0398a359fa35167beb44271c76405f7",
        "_cell_guid": "6a89dcdd-7b68-6ed1-2c39-b3a1edb3e7be"
      },
      "cell_type": "markdown",
      "source": "**Designing Neural Network Architecture**\n========================================="
    },
    {
      "metadata": {
        "_uuid": "b74ff7c1dd69eea1e7a9972d018d368f9fab5a42",
        "_cell_guid": "39107235-d87a-af4d-44fb-80c9c3aa0212",
        "trusted": false,
        "collapsed": true
      },
      "cell_type": "code",
      "source": "# fix random seed for reproducibility\nseed = 43\nnp.random.seed(seed)",
      "execution_count": null,
      "outputs": []
    },
    {
      "metadata": {
        "_uuid": "10b0a92e19c2b7f6a752ce56f067e34792a253a1",
        "_cell_guid": "a8b65f54-398b-267f-e31a-313210450f54"
      },
      "cell_type": "markdown",
      "source": "*Linear Model*\n--------------"
    },
    {
      "metadata": {
        "_uuid": "6e70e51380bb24d9b05b05aa785a1451104b5359",
        "_cell_guid": "5dbe450c-845f-aaa2-dbde-21414a91d8c1",
        "trusted": false,
        "collapsed": true
      },
      "cell_type": "code",
      "source": "from keras.models import  Sequential\nfrom keras.layers.core import  Lambda , Dense, Flatten, Dropout\nfrom keras.callbacks import EarlyStopping\nfrom keras.layers import BatchNormalization, Convolution2D , MaxPooling2D",
      "execution_count": null,
      "outputs": []
    },
    {
      "metadata": {
        "_uuid": "65537cc341ff7d7cb1d964a84f7da1a02b75977c",
        "_cell_guid": "5c3f674f-f3fc-9614-f2d4-056c3e3ad633"
      },
      "cell_type": "markdown",
      "source": "Lets create a simple model from Keras Sequential layer.\n\n1. Lambda layer performs simple arithmetic operations like sum, average, exponentiation etc.\n\n In 1st layer of the model we have to define input dimensions of our data in (rows,columns,colour channel) format.\n (In theano colour channel comes first)\n\n\n2. Flatten will transform input into 1D array.\n\n\n3. Dense is fully connected layer that means all neurons in previous layers will be connected to all neurons in fully connected layer.\n In the last layer we have to specify output dimensions/classes of the model.\n Here it's 10, since we have to output 10 different digit labels."
    },
    {
      "metadata": {
        "_uuid": "445b5bc1d590ee5b5d8db6f93af4e66a114d6d10",
        "_cell_guid": "a2c27783-3cfa-e907-4749-1e340a513f26",
        "trusted": false,
        "collapsed": true
      },
      "cell_type": "code",
      "source": "model= Sequential()\nmodel.add(Lambda(standardize,input_shape=(28,28,1)))\nmodel.add(Flatten())\nmodel.add(Dense(10, activation='softmax'))\nprint(\"input shape \",model.input_shape)\nprint(\"output shape \",model.output_shape)",
      "execution_count": null,
      "outputs": []
    },
    {
      "metadata": {
        "_uuid": "fd6d9c67e9cf6c1ecd6e83494c54e70422544ac7",
        "_cell_guid": "260645fb-61b7-68e9-6826-047b97436c14"
      },
      "cell_type": "markdown",
      "source": "***Compile network***\n-------------------\n\nBefore making network ready for training we have to make sure to add below things:\n\n 1.  A loss function: to measure how good the network is\n    \n 2.  An optimizer: to update network as it sees more data and reduce loss\n    value\n    \n 3.  Metrics: to monitor performance of network"
    },
    {
      "metadata": {
        "_uuid": "3759f8ca4b5c816846e26a97f3cbb8e2597a8db1",
        "_cell_guid": "9d1d1af9-b2a8-e3b9-6eaf-100d08fe83aa",
        "trusted": false,
        "collapsed": true
      },
      "cell_type": "code",
      "source": "from keras.optimizers import RMSprop\nmodel.compile(optimizer=RMSprop(lr=0.001),\n loss='categorical_crossentropy',\n metrics=['accuracy'])",
      "execution_count": null,
      "outputs": []
    },
    {
      "metadata": {
        "_uuid": "ed1abb6d8e5608111b1287ea504a914a9f7c729a",
        "_cell_guid": "db3b4be6-4f72-c6cc-65cd-b45978db2462",
        "trusted": false,
        "collapsed": true
      },
      "cell_type": "code",
      "source": "from keras.preprocessing import image\ngen = image.ImageDataGenerator()",
      "execution_count": null,
      "outputs": []
    },
    {
      "metadata": {
        "_uuid": "5fecb23dc674bb03b5f4c3923eb7bd4b1d1fb3fd",
        "_cell_guid": "9071d720-da50-8530-e9f3-1f0c37aac7ff",
        "trusted": false,
        "collapsed": true
      },
      "cell_type": "code",
      "source": "from sklearn.model_selection import train_test_split\nX_train, X_val, y_train, y_val = train_test_split(X_train, y_train, test_size=0.10, random_state=42)\nbatches = gen.flow(X_train, y_train, batch_size=64)\nval_batches=gen.flow(X_val, y_val, batch_size=64)",
      "execution_count": null,
      "outputs": []
    },
    {
      "metadata": {
        "_uuid": "6f98989965252c9a717773774683a286ec8a0a81",
        "_cell_guid": "20e08e2a-a394-bb70-69f1-be0fdab4f9ab",
        "trusted": false,
        "collapsed": true
      },
      "cell_type": "code",
      "source": "history=model.fit_generator(batches, batches.n, nb_epoch=1, \n                    validation_data=val_batches, nb_val_samples=val_batches.n)",
      "execution_count": null,
      "outputs": []
    },
    {
      "metadata": {
        "_uuid": "50eedd66e60b8092e13f4c3dfbe2cde476cc59a1",
        "_cell_guid": "9f344366-c372-0b04-b7e0-860778d4bfd3",
        "trusted": false,
        "collapsed": true
      },
      "cell_type": "code",
      "source": "history_dict = history.history\nhistory_dict.keys()",
      "execution_count": null,
      "outputs": []
    },
    {
      "metadata": {
        "_uuid": "45136b1fc2a3b6a2d745dc86f97d69bc3729ab52",
        "_cell_guid": "df40f5fc-586a-1fae-025e-ee508a8d9b71",
        "trusted": false,
        "collapsed": true
      },
      "cell_type": "code",
      "source": "import matplotlib.pyplot as plt\n%matplotlib inline\nloss_values = history_dict['loss']\nval_loss_values = history_dict['val_loss']\nepochs = range(1, len(loss_values) + 1)\n\n# \"bo\" is for \"blue dot\"\nplt.plot(epochs, loss_values, 'bo')\n# b+ is for \"blue crosses\"\nplt.plot(epochs, val_loss_values, 'b+')\nplt.xlabel('Epochs')\nplt.ylabel('Loss')\n\nplt.show()",
      "execution_count": null,
      "outputs": []
    },
    {
      "metadata": {
        "_uuid": "dce93bdac27a6b159dac33dddd2f06d88b1cbb81",
        "_cell_guid": "1ed6b756-00c2-d08c-c596-0ce496ec3d04",
        "trusted": false,
        "collapsed": true
      },
      "cell_type": "code",
      "source": "plt.clf()   # clear figure\nacc_values = history_dict['acc']\nval_acc_values = history_dict['val_acc']\n\nplt.plot(epochs, acc_values, 'bo')\nplt.plot(epochs, val_acc_values, 'b+')\nplt.xlabel('Epochs')\nplt.ylabel('Accuracy')\n\nplt.show()",
      "execution_count": null,
      "outputs": []
    },
    {
      "metadata": {
        "_uuid": "f40df75c617b22d24cd1b667ff5d9636d34654bb",
        "_cell_guid": "e9c49f42-26af-73dc-9061-90c50c06f16e",
        "trusted": false,
        "collapsed": true
      },
      "cell_type": "code",
      "source": "model.optimizer.lr=0.01\ngen = image.ImageDataGenerator()\nbatches = gen.flow(X_train, y_train, batch_size=64)\nhistory=model.fit_generator(batches, batches.n, nb_epoch=1)",
      "execution_count": null,
      "outputs": []
    },
    {
      "metadata": {
        "_uuid": "16e93336a4f384a845e56541a27f4d082f2e17e0",
        "_cell_guid": "c2841d54-f3dd-1ee8-a30d-4457dec0a67a",
        "trusted": false,
        "collapsed": true
      },
      "cell_type": "code",
      "source": "predictions = model.predict_classes(X_test, verbose=0)\n\nsubmissions=pd.DataFrame({\"ImageId\": list(range(1,len(predictions)+1)),\n                         \"Label\": predictions})\nsubmissions.to_csv(\"DR.csv\", index=False, header=True)",
      "execution_count": null,
      "outputs": []
    },
    {
      "metadata": {
        "_uuid": "c9d909279c9b9c82c35d04d04a377cb7297cd358",
        "_cell_guid": "d74ac4ce-9fd5-f8d7-fa1c-b6b64b25e882"
      },
      "cell_type": "markdown",
      "source": "More to come . Please upvote if you find it useful."
    },
    {
      "metadata": {
        "_uuid": "14c5ca1a9a9920905a147270f3cc57f776128fcd",
        "_cell_guid": "0e6213b0-fc56-658d-46e3-4a5dcb7148ce"
      },
      "cell_type": "markdown",
      "source": "You can increase number of epochs on your local machine to get better results."
    }
  ],
  "metadata": {
    "kernelspec": {
      "display_name": "Python 3",
      "language": "python",
      "name": "python3"
    },
    "language_info": {
      "name": "python",
      "version": "3.6.5",
      "mimetype": "text/x-python",
      "codemirror_mode": {
        "name": "ipython",
        "version": 3
      },
      "pygments_lexer": "ipython3",
      "nbconvert_exporter": "python",
      "file_extension": ".py"
    },
    "_is_fork": false,
    "_change_revision": 0
  },
  "nbformat": 4,
  "nbformat_minor": 1
}