{
 "cells": [
  {
   "cell_type": "markdown",
   "metadata": {},
   "source": [
    "## 认识赛题\n",
    "  主要是对赛题认知，包含以下几点：\n",
    "  * 对赛题的解释\n",
    "  * 我们从赛题中可以得到哪些信息？\n",
    "  "
   ]
  },
  {
   "cell_type": "markdown",
   "metadata": {},
   "source": [
    "#### OverView"
   ]
  },
  {
   "cell_type": "markdown",
   "metadata": {},
   "source": [
    "**Start here if**...<br>\n",
    "You have some experience with R or Python and machine learning basics, but you’re new to computer vision. This competition is the perfect introduction to techniques like neural networks using a classic dataset including pre-extracted features.<br>\n",
    "\n",
    "**Competition Description**<br>\n",
    "MNIST (\"Modified National Institute of Standards and Technology\") is the de facto “hello world” dataset of computer vision. Since its release in 1999, this classic dataset of handwritten images has served as the basis for benchmarking classification algorithms. As new machine learning techniques emerge, MNIST remains a reliable resource for researchers and learners alike.<br>\n",
    "\n",
    "In this competition, your goal is to correctly identify digits from a dataset of tens of thousands of handwritten images. We’ve curated a set of tutorial-style kernels which cover everything from regression to neural networks. We encourage you to experiment with different algorithms to learn first-hand what works well and how techniques compare.<br>\n",
    "\n",
    "**Practice Skills**<br>\n",
    "Computer vision fundamentals including simple neural networks<br>\n",
    "\n",
    "**Classification methods such as SVM and K-nearest neighbors**<br>\n",
    "\n",
    "**Acknowledgements **<br>\n",
    "More details about the dataset, including algorithms that have been tried on it and their levels of success, can be found at http://yann.lecun.com/exdb/mnist/index.html. The dataset is made available under a Creative Commons Attribution-Share Alike 3.0 license.<br>"
   ]
  },
  {
   "cell_type": "markdown",
   "metadata": {},
   "source": [
    "#### 总结：\n",
    "  个人总结，如有错误，欢迎批评指正。"
   ]
  },
  {
   "cell_type": "markdown",
   "metadata": {},
   "source": [
    "* 1、**CV(计算机视觉)入门比赛**\n",
    "    * 定位为：CV的\"Hello world\"。\n",
    "* 2、**分类问题** \n",
    "     * 定位为：除了要尝试CNN，也要试下机器学习算法，这样比较之下才能知道CNN的强大。\n",
    "     * 脑洞出所有的分类算法：LR、SVM、KNN、朴素贝叶斯.....\n",
    "* 3、**关于数据集和相关的实验**\n",
    "     * [参考文章](http://yann.lecun.com/exdb/mnist/index.html)"
   ]
  },
  {
   "cell_type": "markdown",
   "metadata": {},
   "source": [
    "#### 数据描述"
   ]
  },
  {
   "cell_type": "markdown",
   "metadata": {},
   "source": [
    "##### 综述"
   ]
  },
  {
   "cell_type": "markdown",
   "metadata": {},
   "source": [
    "The data files **train.csv and test.csv** contain gray-scale images of hand-drawn digits, from zero through nine.<br>\n",
    "\n",
    "Each image is 28 pixels in height and 28 pixels in width, for a total of 784 pixels in total. Each pixel has a single pixel-value associated with it, indicating the lightness or darkness of that pixel, with higher numbers meaning darker. This pixel-value is an integer between 0 and 255, inclusive.<br>"
   ]
  },
  {
   "cell_type": "markdown",
   "metadata": {},
   "source": [
    "##### 总结\n",
    "* **数字范围明确**：数据集中只有 **0-9** 数字的[灰度图像](https://baike.baidu.com/item/灰度值/10259111?fr=aladdin)<br>\n",
    "* **图片描述基本单位为**：**像素**，且图片中包含的像素唯一且定量：784。(脑洞：规整统一的数据结构，满足深度学习的框架)<br>\n",
    "* **像素的属性有**：**灰度值**(区别：彩色图像RGB描述)。每一个像素都有唯一对应的灰度值。<br>\n",
    "* **灰度值的含义**：灰度值越**大**颜色越**浅**<br>\n"
   ]
  },
  {
   "cell_type": "markdown",
   "metadata": {},
   "source": [
    "##### 训练数据"
   ]
  },
  {
   "cell_type": "markdown",
   "metadata": {},
   "source": [
    "The **training data set**, (train.csv), has 785 columns. The first column, called \"label\", is the digit that was drawn by the user. The rest of the columns contain the pixel-values of the associated image.<br>\n",
    "\n",
    "Each pixel column in the training set has a name like pixelx, where x is an integer between 0 and 783, inclusive. To locate this pixel on the image, suppose that we have decomposed x as x = i * 28 + j, where i and j are integers between 0 and 27, inclusive. Then pixelx is located on row i and column j of a 28 x 28 matrix, (indexing by zero).<br>\n",
    "\n",
    "For example, pixel31 indicates the pixel that is in the fourth column from the left, and the second row from the top, as in the ascii-diagram below.<br>\n",
    "\n",
    "Visually, if we omit the \"pixel\" prefix, the pixels make up the image like this:<br>\n",
    "\n",
    "000 001 002 003 ... 026 027<br>\n",
    "028 029 030 031 ... 054 055<br>\n",
    "056 057 058 059 ... 082 083<br>\n",
    " |   |   |   |  ...  |   |<br>\n",
    "728 729 730 731 ... 754 755<br>\n",
    "756 757 758 759 ... 782 783 <br>"
   ]
  },
  {
   "cell_type": "markdown",
   "metadata": {},
   "source": [
    "##### 总结\n",
    "* 数据集共有**785列**,第一列为label,其余列均为每个像素对应的灰度值。<br>\n",
    "* 对数据集中像素值进行编号，范围是[0-783] x。<br>\n",
    "* 并建立坐标系定位像素值。(i,j) i,j的是范围[0-28]，也可以理解为**矩阵化**的过程。<br>\n",
    "* x与(i,j)关系：x = i * 28 + j"
   ]
  },
  {
   "cell_type": "markdown",
   "metadata": {},
   "source": [
    "##### 测试数据"
   ]
  },
  {
   "cell_type": "markdown",
   "metadata": {},
   "source": [
    "The **test data set**, (test.csv), is the same as the training set, except that it does not contain the \"label\" column.<br>"
   ]
  },
  {
   "cell_type": "markdown",
   "metadata": {},
   "source": [
    "##### 总结\n",
    "* 测试数据集除了没有\"label\"外，其他与训练集相同。"
   ]
  },
  {
   "cell_type": "markdown",
   "metadata": {},
   "source": [
    "##### 提交结果"
   ]
  },
  {
   "cell_type": "markdown",
   "metadata": {},
   "source": [
    "Your submission file should be in the following format: For each of the 28000 images in the test set, output a single line containing the ImageId and the digit you predict. For example, if you predict that the first image is of a 3, the second image is of a 7, and the third image is of a 8, then your submission file would look like:<br>\n",
    "\n",
    "ImageId,Label<br>\n",
    "1,3<br>\n",
    "2,7<br>\n",
    "3,8 <br>\n",
    "(27997 more lines)<br>\n",
    "The evaluation metric for this contest is the categorization accuracy, or the proportion of test images that are correctly classified. For example, a categorization accuracy of 0.97 indicates that you have correctly classified all but 3% of the images.<br>"
   ]
  },
  {
   "cell_type": "markdown",
   "metadata": {},
   "source": [
    "##### 提交格式为：\n",
    "ImageId,Label<br>\n",
    "1,3<br>\n",
    "2,7<br>\n",
    "3,8 <br>\n",
    "评估指标为：分类的正确率。"
   ]
  }
 ],
 "metadata": {
  "kernelspec": {
   "display_name": "Python 3",
   "language": "python",
   "name": "python3"
  },
  "language_info": {
   "codemirror_mode": {
    "name": "ipython",
    "version": 3
   },
   "file_extension": ".py",
   "mimetype": "text/x-python",
   "name": "python",
   "nbconvert_exporter": "python",
   "pygments_lexer": "ipython3",
   "version": "3.6.4"
  }
 },
 "nbformat": 4,
 "nbformat_minor": 2
}
